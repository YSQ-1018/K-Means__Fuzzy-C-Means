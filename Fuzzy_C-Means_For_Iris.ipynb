{
 "cells": [
  {
   "cell_type": "markdown",
   "metadata": {},
   "source": [
    "# Fuzzy C-Means FCM"
   ]
  },
  {
   "cell_type": "markdown",
   "metadata": {},
   "source": [
    "## 导入数据"
   ]
  },
  {
   "cell_type": "code",
   "execution_count": 337,
   "metadata": {},
   "outputs": [
    {
     "data": {
      "text/html": [
       "<div>\n",
       "<style scoped>\n",
       "    .dataframe tbody tr th:only-of-type {\n",
       "        vertical-align: middle;\n",
       "    }\n",
       "\n",
       "    .dataframe tbody tr th {\n",
       "        vertical-align: top;\n",
       "    }\n",
       "\n",
       "    .dataframe thead th {\n",
       "        text-align: right;\n",
       "    }\n",
       "</style>\n",
       "<table border=\"1\" class=\"dataframe\">\n",
       "  <thead>\n",
       "    <tr style=\"text-align: right;\">\n",
       "      <th></th>\n",
       "      <th>0</th>\n",
       "      <th>1</th>\n",
       "      <th>2</th>\n",
       "      <th>3</th>\n",
       "      <th>4</th>\n",
       "    </tr>\n",
       "  </thead>\n",
       "  <tbody>\n",
       "    <tr>\n",
       "      <th>0</th>\n",
       "      <td>5.1</td>\n",
       "      <td>3.5</td>\n",
       "      <td>1.4</td>\n",
       "      <td>0.2</td>\n",
       "      <td>Iris-setosa</td>\n",
       "    </tr>\n",
       "    <tr>\n",
       "      <th>1</th>\n",
       "      <td>4.9</td>\n",
       "      <td>3.0</td>\n",
       "      <td>1.4</td>\n",
       "      <td>0.2</td>\n",
       "      <td>Iris-setosa</td>\n",
       "    </tr>\n",
       "    <tr>\n",
       "      <th>2</th>\n",
       "      <td>4.7</td>\n",
       "      <td>3.2</td>\n",
       "      <td>1.3</td>\n",
       "      <td>0.2</td>\n",
       "      <td>Iris-setosa</td>\n",
       "    </tr>\n",
       "    <tr>\n",
       "      <th>3</th>\n",
       "      <td>4.6</td>\n",
       "      <td>3.1</td>\n",
       "      <td>1.5</td>\n",
       "      <td>0.2</td>\n",
       "      <td>Iris-setosa</td>\n",
       "    </tr>\n",
       "    <tr>\n",
       "      <th>4</th>\n",
       "      <td>5.0</td>\n",
       "      <td>3.6</td>\n",
       "      <td>1.4</td>\n",
       "      <td>0.2</td>\n",
       "      <td>Iris-setosa</td>\n",
       "    </tr>\n",
       "  </tbody>\n",
       "</table>\n",
       "</div>"
      ],
      "text/plain": [
       "     0    1    2    3            4\n",
       "0  5.1  3.5  1.4  0.2  Iris-setosa\n",
       "1  4.9  3.0  1.4  0.2  Iris-setosa\n",
       "2  4.7  3.2  1.3  0.2  Iris-setosa\n",
       "3  4.6  3.1  1.5  0.2  Iris-setosa\n",
       "4  5.0  3.6  1.4  0.2  Iris-setosa"
      ]
     },
     "execution_count": 337,
     "metadata": {},
     "output_type": "execute_result"
    }
   ],
   "source": [
    "import pandas as pd\n",
    "import numpy as np\n",
    "from sklearn.preprocessing import LabelEncoder #将class(三种花的名字)编码为数值\n",
    "\n",
    "path = '/home/ysq/桌面/Iris/iris.data'\n",
    "\n",
    "#读取数据\n",
    "df = pd.read_csv(path,header=None)\n",
    "df.head(5)"
   ]
  },
  {
   "cell_type": "markdown",
   "metadata": {},
   "source": [
    "## 为类别编码"
   ]
  },
  {
   "cell_type": "code",
   "execution_count": 338,
   "metadata": {},
   "outputs": [
    {
     "data": {
      "text/html": [
       "<div>\n",
       "<style scoped>\n",
       "    .dataframe tbody tr th:only-of-type {\n",
       "        vertical-align: middle;\n",
       "    }\n",
       "\n",
       "    .dataframe tbody tr th {\n",
       "        vertical-align: top;\n",
       "    }\n",
       "\n",
       "    .dataframe thead th {\n",
       "        text-align: right;\n",
       "    }\n",
       "</style>\n",
       "<table border=\"1\" class=\"dataframe\">\n",
       "  <thead>\n",
       "    <tr style=\"text-align: right;\">\n",
       "      <th></th>\n",
       "      <th>0</th>\n",
       "      <th>1</th>\n",
       "      <th>2</th>\n",
       "      <th>3</th>\n",
       "      <th>4</th>\n",
       "    </tr>\n",
       "  </thead>\n",
       "  <tbody>\n",
       "    <tr>\n",
       "      <th>0</th>\n",
       "      <td>5.1</td>\n",
       "      <td>3.5</td>\n",
       "      <td>1.4</td>\n",
       "      <td>0.2</td>\n",
       "      <td>0</td>\n",
       "    </tr>\n",
       "    <tr>\n",
       "      <th>1</th>\n",
       "      <td>4.9</td>\n",
       "      <td>3.0</td>\n",
       "      <td>1.4</td>\n",
       "      <td>0.2</td>\n",
       "      <td>0</td>\n",
       "    </tr>\n",
       "    <tr>\n",
       "      <th>2</th>\n",
       "      <td>4.7</td>\n",
       "      <td>3.2</td>\n",
       "      <td>1.3</td>\n",
       "      <td>0.2</td>\n",
       "      <td>0</td>\n",
       "    </tr>\n",
       "    <tr>\n",
       "      <th>3</th>\n",
       "      <td>4.6</td>\n",
       "      <td>3.1</td>\n",
       "      <td>1.5</td>\n",
       "      <td>0.2</td>\n",
       "      <td>0</td>\n",
       "    </tr>\n",
       "    <tr>\n",
       "      <th>4</th>\n",
       "      <td>5.0</td>\n",
       "      <td>3.6</td>\n",
       "      <td>1.4</td>\n",
       "      <td>0.2</td>\n",
       "      <td>0</td>\n",
       "    </tr>\n",
       "  </tbody>\n",
       "</table>\n",
       "</div>"
      ],
      "text/plain": [
       "     0    1    2    3  4\n",
       "0  5.1  3.5  1.4  0.2  0\n",
       "1  4.9  3.0  1.4  0.2  0\n",
       "2  4.7  3.2  1.3  0.2  0\n",
       "3  4.6  3.1  1.5  0.2  0\n",
       "4  5.0  3.6  1.4  0.2  0"
      ]
     },
     "execution_count": 338,
     "metadata": {},
     "output_type": "execute_result"
    }
   ],
   "source": [
    "#为类别编码,将花的名字换为数字\n",
    "encoder = LabelEncoder().fit(df[4])\n",
    "df[4] = encoder.transform(df[4])\n",
    "df.head(5)"
   ]
  },
  {
   "cell_type": "markdown",
   "metadata": {},
   "source": [
    "## 将dataframe转为ndarray"
   ]
  },
  {
   "cell_type": "code",
   "execution_count": 339,
   "metadata": {},
   "outputs": [
    {
     "name": "stdout",
     "output_type": "stream",
     "text": [
      "<class 'numpy.ndarray'>\n",
      "(150, 5)\n"
     ]
    }
   ],
   "source": [
    "data = df.values\n",
    "print(type(data))\n",
    "print(data.shape)"
   ]
  },
  {
   "cell_type": "markdown",
   "metadata": {},
   "source": [
    "## 计算欧氏距离"
   ]
  },
  {
   "cell_type": "code",
   "execution_count": 340,
   "metadata": {},
   "outputs": [],
   "source": [
    "def Euclid_distance(vector1,vector2):\n",
    "    \"\"\"\n",
    "        计算向量1和向量2间的欧氏距离\n",
    "    \"\"\"\n",
    "    foo = vector1-vector2\n",
    "    return np.linalg.norm(foo,ord=2)#返回L2范数"
   ]
  },
  {
   "cell_type": "markdown",
   "metadata": {},
   "source": [
    "## 定义聚类中心类\n",
    "\n",
    "### Iris数据有三类，故需要三个聚类中心"
   ]
  },
  {
   "cell_type": "code",
   "execution_count": 341,
   "metadata": {},
   "outputs": [],
   "source": [
    "class Center:\n",
    "    \"\"\"\n",
    "        聚类中心类，接受三个向量\n",
    "    \"\"\"\n",
    "    def __init__(self,z0=None,z1=None,z2=None):\n",
    "        \"\"\"\n",
    "            z0,1,2 = None可以使得在生成一个Center类时不必传入参数，之后可以进行传参初始化\n",
    "        \"\"\"\n",
    "        self.z0 = z0\n",
    "        self.z1 = z1\n",
    "        self.z2 = z2"
   ]
  },
  {
   "cell_type": "markdown",
   "metadata": {},
   "source": [
    "### 定义一个列表来接收聚类中心类"
   ]
  },
  {
   "cell_type": "code",
   "execution_count": 342,
   "metadata": {},
   "outputs": [],
   "source": [
    "center_list = []"
   ]
  },
  {
   "cell_type": "markdown",
   "metadata": {},
   "source": [
    "### 定义一个列表来接收代价函数"
   ]
  },
  {
   "cell_type": "code",
   "execution_count": 343,
   "metadata": {},
   "outputs": [],
   "source": [
    "cost_list = []"
   ]
  },
  {
   "cell_type": "markdown",
   "metadata": {},
   "source": [
    "## Observation:\n",
    "### 几个数除以其加起来的和返回的数加和为1\n",
    "### 可用此法产生加和为1的隶属度矩阵的行向量"
   ]
  },
  {
   "cell_type": "code",
   "execution_count": 344,
   "metadata": {},
   "outputs": [
    {
     "data": {
      "text/plain": [
       "(0.3333333333333333, 0.6666666666666666)"
      ]
     },
     "execution_count": 344,
     "metadata": {},
     "output_type": "execute_result"
    }
   ],
   "source": [
    "#eg:\n",
    "x = 1\n",
    "y = 2\n",
    "sum = x+y\n",
    "x/sum,y/sum"
   ]
  },
  {
   "cell_type": "markdown",
   "metadata": {},
   "source": [
    "### 初始化隶属度矩阵U，使用随机数产生"
   ]
  },
  {
   "cell_type": "code",
   "execution_count": 345,
   "metadata": {},
   "outputs": [
    {
     "data": {
      "text/plain": [
       "(150, 3)"
      ]
     },
     "execution_count": 345,
     "metadata": {},
     "output_type": "execute_result"
    }
   ],
   "source": [
    "import random#随机数\n",
    "\n",
    "def init_U(m,c):\n",
    "    \"\"\"\n",
    "        data中样本个数m :#data.shape[0]\n",
    "        跟据提供的聚类簇个数c: #cluster\n",
    "        产生一个隶属度矩阵 m*c维\n",
    "        该矩阵每个行向量加起来和为1\n",
    "        \n",
    "        思路是先构建一个空母列表（当作空矩阵），再循环产生一些子列表（当作行向量），使用\n",
    "        列表的append函数，之后再使用numpy的向量化函数np.array()处理该母列表，生成一个\n",
    "        隶属度矩阵\n",
    "        \n",
    "        产生子列表使用随机数的方式，产生c个1至10000之间的随机数，使用Observation，产生\n",
    "        子列表（隶属度矩阵的行向量）\n",
    "    \"\"\"\n",
    "    \n",
    "    #一个空的母列表\n",
    "    U = []\n",
    "    \n",
    "    #循环\n",
    "    for i in range(0,m):\n",
    "        #行数循环，共m行，即样本个数为m\n",
    "        #定义一个空的子列表\n",
    "        row_vector = []\n",
    "        _sum = 0.0#求和\n",
    "        for j in range(0,c):\n",
    "            #列循环，共c列，即聚类簇个数为c\n",
    "            element = random.randint(1,10000)#产生1～10000之间的随机整数\n",
    "            row_vector.append(element)\n",
    "            _sum += element\n",
    "        \n",
    "        #使用Observation,行向量每个元素除以其和，让其归一化\n",
    "        for j in range(0,c):\n",
    "            row_vector[j] = row_vector[j]/_sum\n",
    "        \n",
    "        #获取行向量，并添加至母列表\n",
    "        U.append(row_vector)\n",
    "    return U\n",
    "\n",
    "U = init_U(data.shape[0],3)\n",
    "#向量化\n",
    "U = np.array(U)\n",
    "U.shape"
   ]
  },
  {
   "cell_type": "markdown",
   "metadata": {},
   "source": [
    "## Fuzzy C Means类"
   ]
  },
  {
   "cell_type": "code",
   "execution_count": 346,
   "metadata": {},
   "outputs": [],
   "source": [
    "class FuzzyCMeans_for_iris:\n",
    "    #构造函数初始化\n",
    "    def __init__(self,data,U,center_list,cost_list,alpha=2):\n",
    "        \"\"\"\n",
    "            参数说明:\n",
    "            data为传入的数据集\n",
    "            U为传入的初始化的隶属度矩阵\n",
    "            center_list为接收聚类中心的列表\n",
    "            cost_list为接收代价函数的列表\n",
    "            alpha为柔性参数（惩罚参数），通常取2,这里直接给他赋值2\n",
    "        \"\"\"\n",
    "        self.data = data\n",
    "        self.U = U\n",
    "        self.center_list = center_list\n",
    "        self.cost_list = cost_list\n",
    "        self.alpha = alpha\n",
    "    \n",
    "    def compute_center_vector(self):\n",
    "        \"\"\"\n",
    "            计算聚类中心向量\n",
    "            聚类簇个数隐含在隶属度矩阵U中，可根据self.U.shape[1]获取，\n",
    "            样本个数可以通过self.U.shape[0]获取\n",
    "        \"\"\"\n",
    "        #聚类簇个数\n",
    "        cluster_number = self.U.shape[1]\n",
    "        #样本个数\n",
    "        sample_number = self.U.shape[0]\n",
    "        #定义一个Center类用来接收中心向量\n",
    "        c = Center()        \n",
    "        #寄存中心向量的列表\n",
    "        foo = []\n",
    "        #使用循环计算cluster_number个中心向量\n",
    "        for j in range(cluster_number):\n",
    "            #计算第j个中心向量     \n",
    "            #分母\n",
    "            den = 0.0          \n",
    "            #分子，初始化为1*4的零向量\n",
    "            num = np.zeros((1,4))\n",
    "            \n",
    "            for i in range(sample_number):\n",
    "                den += self.U[i][j]**self.alpha\n",
    "                #注意取data的前四个元素,忽略掉标签！\n",
    "                num += (self.U[i][j]**self.alpha)*self.data[i][0:4]\n",
    "                \n",
    "            #计算完分子和分母，现在计算第j个中心向量\n",
    "            foo.append(num/den)\n",
    "        \n",
    "        c.z0 = foo[0]\n",
    "        c.z1 = foo[1]\n",
    "        c.z2 = foo[2]\n",
    "        #更新center_list\n",
    "        self.center_list.append(c)\n",
    "        \n",
    "    def cost_function(self):\n",
    "        \"\"\"\n",
    "            计算代价函数\n",
    "        \"\"\"\n",
    "        J = 0.0#初始化为0.0\n",
    "         #聚类簇个数\n",
    "        cluster_number = self.U.shape[1]\n",
    "        #样本个数\n",
    "        sample_number = self.U.shape[0]\n",
    "        \n",
    "        #寄存器\n",
    "        foo = []\n",
    "        \n",
    "        #外循环\n",
    "        for j in range(cluster_number):\n",
    "            Jj = 0.0\n",
    "            for i in range(sample_number):\n",
    "                \n",
    "                var = self.U[i][j]**self.alpha\n",
    "                \n",
    "                #计算第i个样本和当前聚类中心列表的最后一个的第j个的距离,受限于类的类型，无法使用下标，手动分类计算\n",
    "                if i == 0:\n",
    "                    dij = Euclid_distance(self.data[i][0:4],self.center_list[-1].z0)\n",
    "                if i==1:\n",
    "                    dij = Euclid_distance(self.data[i][0:4],self.center_list[-1].z1)\n",
    "                if i == 2:\n",
    "                    dij = Euclid_distance(self.data[i][0:4],self.center_list[-1].z2)\n",
    "                Jj+=var*(dij**2)\n",
    "            foo.append(Jj)\n",
    "        for s in range(len(foo)):\n",
    "            J+=foo[s]\n",
    "        print('当前代价函数为',J)\n",
    "        self.cost_list.append(J)\n",
    "    \n",
    "    def stop_compute(self):\n",
    "        \"\"\"\n",
    "            当本次计算的代价函数和上次的代价函数相差不多时停止计算\n",
    "            定义差量为0.000001\n",
    "        \"\"\"\n",
    "        #差量\n",
    "        error = 0.0000001\n",
    "        \n",
    "        #若当前代价函数列表为空或者只有一个元素，返回False\n",
    "        if len(self.cost_list)==0 or len(self.cost_list)==1:\n",
    "            return False\n",
    "        if self.cost_list[-2]-self.cost_list[-1]<error:\n",
    "            return True\n",
    "        else:\n",
    "            return False\n",
    "        \n",
    "    def compute_U_matrix(self):\n",
    "        \"\"\"\n",
    "            当不满足停机条件时，需要更新隶属度矩阵\n",
    "            此处代码是为了更新隶属度矩阵，判断是否停机交给stop_compute函数\n",
    "            \n",
    "            此处借助初始化U时的一个想法，先构建一个母列表，然后循环构建子列表用于接收行向量的元素\n",
    "            （因为算法每次只能计算处新的U矩阵中的一个元素）,最后使用numpy将母列表向量化得到更新\n",
    "            后的U (m*c维度，m为样本个数，c为聚类簇个数)\n",
    "        \"\"\"\n",
    "        #聚类簇个数\n",
    "        cluster_number = self.U.shape[1]\n",
    "        #样本个数\n",
    "        sample_number = self.U.shape[0]\n",
    "        \n",
    "        #空的母列表\n",
    "        U = []\n",
    "        \n",
    "        for i in range(sample_number):\n",
    "            row_vector = []#空的子列表\n",
    "            for j in range(cluster_number):\n",
    "                num = 1#分子为1\n",
    "                den = 0.0#分母初始化为0.0,下面使用循环计算分母den\n",
    "                \n",
    "                #计算dij\n",
    "                if j==0:\n",
    "                    dij = Euclid_distance(self.data[i][0:4],self.center_list[-1].z0)\n",
    "                if j==1:\n",
    "                    dij = Euclid_distance(self.data[i][0:4],self.center_list[-1].z1)\n",
    "                if j==2:\n",
    "                    dij = Euclid_distance(self.data[i][0:4],self.center_list[-1].z2)                \n",
    "                #计算分母den\n",
    "                for k in range(cluster_number):\n",
    "                    if k==0:\n",
    "                        dik = Euclid_distance(self.data[i][0:4],self.center_list[-1].z0)\n",
    "                    if k==1:\n",
    "                        dik = Euclid_distance(self.data[i][0:4],self.center_list[-1].z1)\n",
    "                    if k==2:\n",
    "                        dik = Euclid_distance(self.data[i][0:4],self.center_list[-1].z2)                \n",
    "                    den += (dij/dik)**(2/(self.alpha-1))\n",
    "                uij = num/den\n",
    "                row_vector.append(uij)\n",
    "            #print(row_vector)\n",
    "            U.append(row_vector)\n",
    "        #向量化\n",
    "        U = np.array(U)\n",
    "        #更新U\n",
    "        self.U = U\n",
    "    "
   ]
  },
  {
   "cell_type": "markdown",
   "metadata": {},
   "source": [
    "# 进行训练"
   ]
  },
  {
   "cell_type": "code",
   "execution_count": 347,
   "metadata": {},
   "outputs": [
    {
     "name": "stdout",
     "output_type": "stream",
     "text": [
      "当前代价函数为 563.8778698208009\n",
      "当前代价函数为 409.34069067576274\n",
      "当前代价函数为 174.80415726978666\n",
      "当前代价函数为 40.266140161393935\n",
      "当前代价函数为 47.46252029775301\n",
      "3\n",
      "最近一次的隶属度矩阵:\n",
      " [[0.01167522 0.01219913 0.97612564]\n",
      " [0.02049725 0.0214325  0.95807025]\n",
      " [0.02455531 0.02562425 0.94982044]\n",
      " [0.02557916 0.02673638 0.94768445]\n",
      " [0.01457337 0.01521745 0.97020918]\n",
      " [0.03125165 0.03272095 0.9360274 ]\n",
      " [0.02330651 0.02432947 0.95236402]\n",
      " [0.00717452 0.00750544 0.98532004]\n",
      " [0.04716631 0.04921229 0.9036214 ]\n",
      " [0.01590552 0.01663881 0.96745567]\n",
      " [0.02175346 0.02273866 0.95550788]\n",
      " [0.00994059 0.01040243 0.97965698]\n",
      " [0.02533258 0.02646751 0.94819991]\n",
      " [0.0586022  0.06094477 0.88045303]\n",
      " [0.0693376  0.07210352 0.85855889]\n",
      " [0.0892691  0.09285492 0.81787598]\n",
      " [0.03803245 0.03965401 0.92231354]\n",
      " [0.01034813 0.01081675 0.97883512]\n",
      " [0.04486813 0.04698282 0.90814905]\n",
      " [0.0186918  0.0195283  0.9617799 ]\n",
      " [0.01037277 0.01088466 0.97874257]\n",
      " [0.01348208 0.01409872 0.9724192 ]\n",
      " [0.0439245  0.04565486 0.91042064]\n",
      " [0.00204483 0.00214858 0.99580659]\n",
      " [0.01143106 0.01200016 0.97656877]\n",
      " [0.01357696 0.01423287 0.97219017]\n",
      " [0.00276516 0.00289844 0.9943364 ]\n",
      " [0.00892259 0.00933458 0.98174284]\n",
      " [0.01131271 0.01182688 0.97686041]\n",
      " [0.01596043 0.01670421 0.96733536]\n",
      " [0.01431725 0.01499468 0.97068807]\n",
      " [0.0124055  0.01299788 0.97459662]\n",
      " [0.04345869 0.04528403 0.91125728]\n",
      " [0.06089486 0.06337778 0.87572736]\n",
      " [0.01590552 0.01663881 0.96745567]\n",
      " [0.0219793  0.02293442 0.95508629]\n",
      " [0.02745285 0.02866224 0.94388492]\n",
      " [0.01590552 0.01663881 0.96745567]\n",
      " [0.04542722 0.04735476 0.90721801]\n",
      " [0.00664344 0.00695166 0.9864049 ]\n",
      " [0.01538901 0.01606562 0.96854537]\n",
      " [0.08386236 0.08742549 0.82871215]\n",
      " [0.0402761  0.04197437 0.91774952]\n",
      " [0.0087628  0.00918683 0.98205037]\n",
      " [0.0194739  0.02044183 0.96008427]\n",
      " [0.02216519 0.02317731 0.9546575 ]\n",
      " [0.01799739 0.01881383 0.96318878]\n",
      " [0.02564213 0.02677216 0.9475857 ]\n",
      " [0.01802618 0.01884169 0.96313213]\n",
      " [0.01091651 0.01141161 0.97767188]\n",
      " [0.50180881 0.46969056 0.02850063]\n",
      " [0.48053364 0.51199984 0.00746652]\n",
      " [0.52085803 0.45831768 0.02082429]\n",
      " [0.43038669 0.48411197 0.08550134]\n",
      " [0.51303653 0.48143002 0.00553345]\n",
      " [0.43928222 0.54252522 0.01819257]\n",
      " [0.52448283 0.46863934 0.00687783]\n",
      " [0.31163774 0.33679049 0.35157177]\n",
      " [0.49749106 0.49135139 0.01115755]\n",
      " [0.41684977 0.4675995  0.11555073]\n",
      " [0.35233654 0.37889649 0.26876696]\n",
      " [0.41954069 0.56262431 0.017835  ]\n",
      " [0.43504905 0.4857325  0.07921845]\n",
      " [0.43508612 0.56318223 0.00173165]\n",
      " [0.4021789  0.46005278 0.13776832]\n",
      " [0.48411922 0.49741018 0.01847061]\n",
      " [0.44720325 0.53333405 0.0194627 ]\n",
      " [0.43162369 0.51163748 0.05673883]\n",
      " [0.47509971 0.50119048 0.02370982]\n",
      " [0.42142195 0.48275059 0.09582745]\n",
      " [0.51424241 0.47641273 0.00934486]\n",
      " [0.42988783 0.5352977  0.03481447]\n",
      " [0.52919391 0.46128882 0.00951727]\n",
      " [0.46102081 0.53154266 0.00743653]\n",
      " [0.44234623 0.54428116 0.0133726 ]\n",
      " [0.47746543 0.50919604 0.01333852]\n",
      " [0.51903632 0.46453718 0.0164265 ]\n",
      " [0.54774756 0.43879486 0.01345758]\n",
      " [0.34619526 0.65090539 0.00289935]\n",
      " [0.38389657 0.43137173 0.1847317 ]\n",
      " [0.41103788 0.46245956 0.12650256]\n",
      " [0.39797657 0.44474352 0.1572799 ]\n",
      " [0.42606965 0.50680792 0.06712244]\n",
      " [0.54067566 0.449592   0.00973234]\n",
      " [0.45347301 0.51259787 0.03392912]\n",
      " [0.46756507 0.51820936 0.01422557]\n",
      " [0.52340098 0.46433919 0.01225983]\n",
      " [0.46549109 0.50918258 0.02532633]\n",
      " [0.4309989  0.51867974 0.05032136]\n",
      " [0.42971358 0.49335051 0.07693591]\n",
      " [0.44509761 0.51173013 0.04317226]\n",
      " [0.371919   0.62599923 0.00208177]\n",
      " [0.43062785 0.51323361 0.05613854]\n",
      " [0.31982527 0.3459948  0.33417993]\n",
      " [0.43537865 0.52275102 0.04187032]\n",
      " [0.43153014 0.52998872 0.03848114]\n",
      " [0.42996267 0.53719917 0.03283816]\n",
      " [0.41476099 0.57403892 0.01120009]\n",
      " [0.27288077 0.29517064 0.43194859]\n",
      " [0.43003414 0.5278412  0.04212466]\n",
      " [0.49395564 0.45081485 0.05522951]\n",
      " [0.51952283 0.4637418  0.01673537]\n",
      " [0.4979032  0.45008891 0.05200789]\n",
      " [0.5271492  0.44788756 0.02496324]\n",
      " [0.50968861 0.4507076  0.03960379]\n",
      " [0.47293559 0.44260989 0.08445451]\n",
      " [0.44545026 0.47083746 0.08371228]\n",
      " [0.4851245  0.44776003 0.06711547]\n",
      " [0.50771162 0.45251313 0.03977525]\n",
      " [0.48060148 0.44583879 0.07355973]\n",
      " [0.54041711 0.44235857 0.01722432]\n",
      " [0.54047662 0.44186057 0.01766281]\n",
      " [0.51728038 0.44958834 0.03313128]\n",
      " [0.50189296 0.47405313 0.02405392]\n",
      " [0.50488045 0.46401338 0.03110617]\n",
      " [0.52020905 0.45113862 0.02865232]\n",
      " [0.53183715 0.44495697 0.02320589]\n",
      " [0.46336537 0.43777138 0.09886324]\n",
      " [0.46516714 0.43899913 0.09583373]\n",
      " [0.49822087 0.47822948 0.02354965]\n",
      " [0.50275137 0.45065618 0.04659245]\n",
      " [0.49786532 0.4801949  0.02193979]\n",
      " [0.46976153 0.4414009  0.08883757]\n",
      " [0.57428058 0.41951675 0.00620267]\n",
      " [0.50913774 0.45064659 0.04021567]\n",
      " [0.49318581 0.44980423 0.05700996]\n",
      " [0.59543803 0.40122083 0.00334114]\n",
      " [0.58515086 0.4102792  0.00456994]\n",
      " [0.52043657 0.44959726 0.02996617]\n",
      " [0.49851368 0.45175555 0.04973077]\n",
      " [0.48718235 0.44857339 0.06424426]\n",
      " [0.46426966 0.43874009 0.09699025]\n",
      " [0.51733944 0.45051174 0.03214882]\n",
      " [0.56624271 0.4258664  0.00789088]\n",
      " [0.51311059 0.45845664 0.02843276]\n",
      " [0.47793932 0.44510377 0.07695691]\n",
      " [0.50449089 0.45300686 0.04250225]\n",
      " [0.5317763  0.44537149 0.02285221]\n",
      " [0.54888724 0.44666183 0.00445093]\n",
      " [0.51561423 0.45046032 0.03392544]\n",
      " [0.50729694 0.45112534 0.04157771]\n",
      " [0.51265006 0.45356332 0.03378662]\n",
      " [0.51952283 0.4637418  0.01673537]\n",
      " [0.49951377 0.45015828 0.05032794]\n",
      " [0.4996509  0.45102686 0.04932224]\n",
      " [0.51988814 0.45097208 0.02913978]\n",
      " [0.53680209 0.44957748 0.01362043]\n",
      " [0.54355976 0.43925246 0.01718778]\n",
      " [0.51117716 0.45433883 0.03448401]\n",
      " [0.5379375  0.45051745 0.01154505]]\n"
     ]
    }
   ],
   "source": [
    "x = FuzzyCMeans_for_iris(data=data,U=U,center_list=center_list,cost_list=cost_list)\n",
    "#先计算中心向量\n",
    "x.compute_center_vector()\n",
    "x.cost_function()\n",
    "\n",
    "#对代价进行限制，不满足条件时重新随机生成U，直到满足条件后，开始进行训练\n",
    "while x.cost_list[-1]>500:\n",
    "    x.cost_list.clear()\n",
    "    x.U = np.array(init_U(data.shape[0],3))\n",
    "    x.compute_center_vector()\n",
    "    x.cost_function()\n",
    "\n",
    "\n",
    "#迭代计数器\n",
    "counter = 0\n",
    "\n",
    "\n",
    "for i in range(15):\n",
    "    if x.stop_compute() == True:\n",
    "        break\n",
    "    x.compute_U_matrix()\n",
    "    #print('--after compute:\\n',x.U[0],'\\n\\n')\n",
    "    x.compute_center_vector()\n",
    "    x.cost_function()\n",
    "    counter+=1\n",
    "\n",
    "print(counter)\n",
    "print('最近一次的隶属度矩阵:\\n',x.U)"
   ]
  },
  {
   "cell_type": "markdown",
   "metadata": {},
   "source": [
    "## 根据隶属度矩阵对数据进行分类"
   ]
  },
  {
   "cell_type": "code",
   "execution_count": 348,
   "metadata": {},
   "outputs": [],
   "source": [
    "#先定义三个接收分类后数据的列表list0,1,2\n",
    "list0 = []\n",
    "list1 = []\n",
    "list2 = []\n",
    "\n",
    "def classify(U,data,list0,list1,list2):\n",
    "    \"\"\"\n",
    "        分类函数--跟据隶属度矩阵U对data进行分类\n",
    "        参数说明：U --隶属度矩阵\n",
    "                data --待分类的数据\n",
    "                list0 --接收第0类数据的列表\n",
    "                list1 --接收第1类数据的列表\n",
    "                list2 --接收第2类数据的列表    \n",
    "    \"\"\"\n",
    "    list0.clear()\n",
    "    list1.clear()\n",
    "    list2.clear()\n",
    "    for i in range(data.shape[0]):\n",
    "        row_vector = U[i]\n",
    "        if row_vector[0] > row_vector[1] and row_vector[0] > row_vector[2]:\n",
    "            list0.append(data[i])\n",
    "        if row_vector[1] > row_vector[0] and row_vector[1] > row_vector[2]:\n",
    "            list1.append(data[i])\n",
    "        if row_vector[2] > row_vector[0] and row_vector[2] > row_vector[1]:\n",
    "            list2.append(data[i])\n",
    "\n",
    "classify(x.U,x.data,list0,list1,list2)"
   ]
  },
  {
   "cell_type": "code",
   "execution_count": 349,
   "metadata": {},
   "outputs": [
    {
     "data": {
      "text/plain": [
       "[array([7. , 3.2, 4.7, 1.4, 1. ]),\n",
       " array([6.9, 3.1, 4.9, 1.5, 1. ]),\n",
       " array([6.5, 2.8, 4.6, 1.5, 1. ]),\n",
       " array([6.3, 3.3, 4.7, 1.6, 1. ]),\n",
       " array([6.6, 2.9, 4.6, 1.3, 1. ]),\n",
       " array([5.9, 3.2, 4.8, 1.8, 1. ]),\n",
       " array([6.3, 2.5, 4.9, 1.5, 1. ]),\n",
       " array([6.8, 2.8, 4.8, 1.4, 1. ]),\n",
       " array([6.7, 3. , 5. , 1.7, 1. ]),\n",
       " array([6. , 2.7, 5.1, 1.6, 1. ]),\n",
       " array([6.7, 3.1, 4.7, 1.5, 1. ]),\n",
       " array([6.3, 3.3, 6. , 2.5, 2. ]),\n",
       " array([5.8, 2.7, 5.1, 1.9, 2. ]),\n",
       " array([7.1, 3. , 5.9, 2.1, 2. ]),\n",
       " array([6.3, 2.9, 5.6, 1.8, 2. ]),\n",
       " array([6.5, 3. , 5.8, 2.2, 2. ]),\n",
       " array([7.6, 3. , 6.6, 2.1, 2. ]),\n",
       " array([7.3, 2.9, 6.3, 1.8, 2. ]),\n",
       " array([6.7, 2.5, 5.8, 1.8, 2. ]),\n",
       " array([7.2, 3.6, 6.1, 2.5, 2. ]),\n",
       " array([6.5, 3.2, 5.1, 2. , 2. ]),\n",
       " array([6.4, 2.7, 5.3, 1.9, 2. ]),\n",
       " array([6.8, 3. , 5.5, 2.1, 2. ]),\n",
       " array([5.7, 2.5, 5. , 2. , 2. ]),\n",
       " array([5.8, 2.8, 5.1, 2.4, 2. ]),\n",
       " array([6.4, 3.2, 5.3, 2.3, 2. ]),\n",
       " array([6.5, 3. , 5.5, 1.8, 2. ]),\n",
       " array([7.7, 3.8, 6.7, 2.2, 2. ]),\n",
       " array([7.7, 2.6, 6.9, 2.3, 2. ]),\n",
       " array([6. , 2.2, 5. , 1.5, 2. ]),\n",
       " array([6.9, 3.2, 5.7, 2.3, 2. ]),\n",
       " array([5.6, 2.8, 4.9, 2. , 2. ]),\n",
       " array([7.7, 2.8, 6.7, 2. , 2. ]),\n",
       " array([6.3, 2.7, 4.9, 1.8, 2. ]),\n",
       " array([6.7, 3.3, 5.7, 2.1, 2. ]),\n",
       " array([7.2, 3.2, 6. , 1.8, 2. ]),\n",
       " array([6.2, 2.8, 4.8, 1.8, 2. ]),\n",
       " array([6.1, 3. , 4.9, 1.8, 2. ]),\n",
       " array([6.4, 2.8, 5.6, 2.1, 2. ]),\n",
       " array([7.2, 3. , 5.8, 1.6, 2. ]),\n",
       " array([7.4, 2.8, 6.1, 1.9, 2. ]),\n",
       " array([7.9, 3.8, 6.4, 2. , 2. ]),\n",
       " array([6.4, 2.8, 5.6, 2.2, 2. ]),\n",
       " array([6.3, 2.8, 5.1, 1.5, 2. ]),\n",
       " array([6.1, 2.6, 5.6, 1.4, 2. ]),\n",
       " array([7.7, 3. , 6.1, 2.3, 2. ]),\n",
       " array([6.3, 3.4, 5.6, 2.4, 2. ]),\n",
       " array([6.4, 3.1, 5.5, 1.8, 2. ]),\n",
       " array([6. , 3. , 4.8, 1.8, 2. ]),\n",
       " array([6.9, 3.1, 5.4, 2.1, 2. ]),\n",
       " array([6.7, 3.1, 5.6, 2.4, 2. ]),\n",
       " array([6.9, 3.1, 5.1, 2.3, 2. ]),\n",
       " array([5.8, 2.7, 5.1, 1.9, 2. ]),\n",
       " array([6.8, 3.2, 5.9, 2.3, 2. ]),\n",
       " array([6.7, 3.3, 5.7, 2.5, 2. ]),\n",
       " array([6.7, 3. , 5.2, 2.3, 2. ]),\n",
       " array([6.3, 2.5, 5. , 1.9, 2. ]),\n",
       " array([6.5, 3. , 5.2, 2. , 2. ]),\n",
       " array([6.2, 3.4, 5.4, 2.3, 2. ]),\n",
       " array([5.9, 3. , 5.1, 1.8, 2. ])]"
      ]
     },
     "execution_count": 349,
     "metadata": {},
     "output_type": "execute_result"
    }
   ],
   "source": [
    "list0"
   ]
  },
  {
   "cell_type": "code",
   "execution_count": 350,
   "metadata": {},
   "outputs": [
    {
     "data": {
      "text/plain": [
       "[array([6.4, 3.2, 4.5, 1.5, 1. ]),\n",
       " array([5.5, 2.3, 4. , 1.3, 1. ]),\n",
       " array([5.7, 2.8, 4.5, 1.3, 1. ]),\n",
       " array([5.2, 2.7, 3.9, 1.4, 1. ]),\n",
       " array([5. , 2. , 3.5, 1. , 1. ]),\n",
       " array([5.9, 3. , 4.2, 1.5, 1. ]),\n",
       " array([6. , 2.2, 4. , 1. , 1. ]),\n",
       " array([6.1, 2.9, 4.7, 1.4, 1. ]),\n",
       " array([5.6, 2.9, 3.6, 1.3, 1. ]),\n",
       " array([6.7, 3.1, 4.4, 1.4, 1. ]),\n",
       " array([5.6, 3. , 4.5, 1.5, 1. ]),\n",
       " array([5.8, 2.7, 4.1, 1. , 1. ]),\n",
       " array([6.2, 2.2, 4.5, 1.5, 1. ]),\n",
       " array([5.6, 2.5, 3.9, 1.1, 1. ]),\n",
       " array([6.1, 2.8, 4. , 1.3, 1. ]),\n",
       " array([6.1, 2.8, 4.7, 1.2, 1. ]),\n",
       " array([6.4, 2.9, 4.3, 1.3, 1. ]),\n",
       " array([6.6, 3. , 4.4, 1.4, 1. ]),\n",
       " array([6. , 2.9, 4.5, 1.5, 1. ]),\n",
       " array([5.7, 2.6, 3.5, 1. , 1. ]),\n",
       " array([5.5, 2.4, 3.8, 1.1, 1. ]),\n",
       " array([5.5, 2.4, 3.7, 1. , 1. ]),\n",
       " array([5.8, 2.7, 3.9, 1.2, 1. ]),\n",
       " array([5.4, 3. , 4.5, 1.5, 1. ]),\n",
       " array([6. , 3.4, 4.5, 1.6, 1. ]),\n",
       " array([6.3, 2.3, 4.4, 1.3, 1. ]),\n",
       " array([5.6, 3. , 4.1, 1.3, 1. ]),\n",
       " array([5.5, 2.5, 4. , 1.3, 1. ]),\n",
       " array([5.5, 2.6, 4.4, 1.2, 1. ]),\n",
       " array([6.1, 3. , 4.6, 1.4, 1. ]),\n",
       " array([5.8, 2.6, 4. , 1.2, 1. ]),\n",
       " array([5. , 2.3, 3.3, 1. , 1. ]),\n",
       " array([5.6, 2.7, 4.2, 1.3, 1. ]),\n",
       " array([5.7, 3. , 4.2, 1.2, 1. ]),\n",
       " array([5.7, 2.9, 4.2, 1.3, 1. ]),\n",
       " array([6.2, 2.9, 4.3, 1.3, 1. ]),\n",
       " array([5.7, 2.8, 4.1, 1.3, 1. ]),\n",
       " array([4.9, 2.5, 4.5, 1.7, 2. ])]"
      ]
     },
     "execution_count": 350,
     "metadata": {},
     "output_type": "execute_result"
    }
   ],
   "source": [
    "list1"
   ]
  },
  {
   "cell_type": "code",
   "execution_count": 351,
   "metadata": {},
   "outputs": [
    {
     "data": {
      "text/plain": [
       "[array([5.1, 3.5, 1.4, 0.2, 0. ]),\n",
       " array([4.9, 3. , 1.4, 0.2, 0. ]),\n",
       " array([4.7, 3.2, 1.3, 0.2, 0. ]),\n",
       " array([4.6, 3.1, 1.5, 0.2, 0. ]),\n",
       " array([5. , 3.6, 1.4, 0.2, 0. ]),\n",
       " array([5.4, 3.9, 1.7, 0.4, 0. ]),\n",
       " array([4.6, 3.4, 1.4, 0.3, 0. ]),\n",
       " array([5. , 3.4, 1.5, 0.2, 0. ]),\n",
       " array([4.4, 2.9, 1.4, 0.2, 0. ]),\n",
       " array([4.9, 3.1, 1.5, 0.1, 0. ]),\n",
       " array([5.4, 3.7, 1.5, 0.2, 0. ]),\n",
       " array([4.8, 3.4, 1.6, 0.2, 0. ]),\n",
       " array([4.8, 3. , 1.4, 0.1, 0. ]),\n",
       " array([4.3, 3. , 1.1, 0.1, 0. ]),\n",
       " array([5.8, 4. , 1.2, 0.2, 0. ]),\n",
       " array([5.7, 4.4, 1.5, 0.4, 0. ]),\n",
       " array([5.4, 3.9, 1.3, 0.4, 0. ]),\n",
       " array([5.1, 3.5, 1.4, 0.3, 0. ]),\n",
       " array([5.7, 3.8, 1.7, 0.3, 0. ]),\n",
       " array([5.1, 3.8, 1.5, 0.3, 0. ]),\n",
       " array([5.4, 3.4, 1.7, 0.2, 0. ]),\n",
       " array([5.1, 3.7, 1.5, 0.4, 0. ]),\n",
       " array([4.6, 3.6, 1. , 0.2, 0. ]),\n",
       " array([5.1, 3.3, 1.7, 0.5, 0. ]),\n",
       " array([4.8, 3.4, 1.9, 0.2, 0. ]),\n",
       " array([5. , 3. , 1.6, 0.2, 0. ]),\n",
       " array([5. , 3.4, 1.6, 0.4, 0. ]),\n",
       " array([5.2, 3.5, 1.5, 0.2, 0. ]),\n",
       " array([5.2, 3.4, 1.4, 0.2, 0. ]),\n",
       " array([4.7, 3.2, 1.6, 0.2, 0. ]),\n",
       " array([4.8, 3.1, 1.6, 0.2, 0. ]),\n",
       " array([5.4, 3.4, 1.5, 0.4, 0. ]),\n",
       " array([5.2, 4.1, 1.5, 0.1, 0. ]),\n",
       " array([5.5, 4.2, 1.4, 0.2, 0. ]),\n",
       " array([4.9, 3.1, 1.5, 0.1, 0. ]),\n",
       " array([5. , 3.2, 1.2, 0.2, 0. ]),\n",
       " array([5.5, 3.5, 1.3, 0.2, 0. ]),\n",
       " array([4.9, 3.1, 1.5, 0.1, 0. ]),\n",
       " array([4.4, 3. , 1.3, 0.2, 0. ]),\n",
       " array([5.1, 3.4, 1.5, 0.2, 0. ]),\n",
       " array([5. , 3.5, 1.3, 0.3, 0. ]),\n",
       " array([4.5, 2.3, 1.3, 0.3, 0. ]),\n",
       " array([4.4, 3.2, 1.3, 0.2, 0. ]),\n",
       " array([5. , 3.5, 1.6, 0.6, 0. ]),\n",
       " array([5.1, 3.8, 1.9, 0.4, 0. ]),\n",
       " array([4.8, 3. , 1.4, 0.3, 0. ]),\n",
       " array([5.1, 3.8, 1.6, 0.2, 0. ]),\n",
       " array([4.6, 3.2, 1.4, 0.2, 0. ]),\n",
       " array([5.3, 3.7, 1.5, 0.2, 0. ]),\n",
       " array([5. , 3.3, 1.4, 0.2, 0. ]),\n",
       " array([4.9, 2.4, 3.3, 1. , 1. ]),\n",
       " array([5.1, 2.5, 3. , 1.1, 1. ])]"
      ]
     },
     "execution_count": 351,
     "metadata": {},
     "output_type": "execute_result"
    }
   ],
   "source": [
    "list2"
   ]
  },
  {
   "cell_type": "markdown",
   "metadata": {},
   "source": [
    "## 现在遇到了与Kmeans中一样的问题：\n",
    "### 分完类后，并不知道这是第几类\n",
    "### 需要借助统计的方法确认类别"
   ]
  },
  {
   "cell_type": "code",
   "execution_count": 352,
   "metadata": {},
   "outputs": [],
   "source": [
    "def statistic(_list):\n",
    "    \"\"\"\n",
    "        统计类别以获得标签\n",
    "    \"\"\"\n",
    "    c0 = 0\n",
    "    c1 = 0\n",
    "    c2 = 0\n",
    "    for sample in _list:\n",
    "        foo = sample[4:5]\n",
    "        #print(foo)\n",
    "        if foo==0:\n",
    "            c0+=1\n",
    "        elif foo==1:\n",
    "            c1+=1\n",
    "        else:\n",
    "            c2+=1\n",
    "    #print(c0,c1,c2)\n",
    "    #Voting\n",
    "    if c0 > c1 and c0 > c2: \n",
    "        return 0\n",
    "    if c1 > c0 and c1 > c2: \n",
    "        return 1\n",
    "    if c2 > c1 and c2 > c0: \n",
    "        return 2"
   ]
  },
  {
   "cell_type": "code",
   "execution_count": 353,
   "metadata": {},
   "outputs": [
    {
     "data": {
      "text/plain": [
       "(60, 38, 52)"
      ]
     },
     "execution_count": 353,
     "metadata": {},
     "output_type": "execute_result"
    }
   ],
   "source": [
    "len(list0),len(list1),len(list2)"
   ]
  },
  {
   "cell_type": "code",
   "execution_count": 354,
   "metadata": {},
   "outputs": [
    {
     "name": "stdout",
     "output_type": "stream",
     "text": [
      "中心向量:\n",
      "\n",
      "[[6.32838736 2.89862561 5.00626917 1.72960963]] \n",
      " [[6.23955835 2.87759027 4.85825292 1.64623386]] \n",
      " [[5.01240707 3.39831204 1.50860076 0.26098089]]\n"
     ]
    }
   ],
   "source": [
    "print(\"中心向量:\\n\")\n",
    "print(x.center_list[-1].z0,'\\n',x.center_list[-1].z1,'\\n',x.center_list[-1].z2)"
   ]
  },
  {
   "cell_type": "markdown",
   "metadata": {},
   "source": [
    "### 计算分类正确的个数"
   ]
  },
  {
   "cell_type": "code",
   "execution_count": 355,
   "metadata": {},
   "outputs": [],
   "source": [
    "def correct_number(_list):\n",
    "    \"\"\"\n",
    "        计算某一类的分类正确的个数\n",
    "    \"\"\"\n",
    "    correct = 0\n",
    "    label = statistic(_list)\n",
    "    print(\"第\",label,\"类\")\n",
    "    for sample in _list:\n",
    "        #使用sample[4:5]获取其标签\n",
    "        if sample[4:5] == label:\n",
    "            correct+=1\n",
    "    return correct"
   ]
  },
  {
   "cell_type": "code",
   "execution_count": 356,
   "metadata": {},
   "outputs": [
    {
     "name": "stdout",
     "output_type": "stream",
     "text": [
      "第 2 类\n",
      "正确个数: 49\n",
      "第 1 类\n",
      "正确个数: 37\n",
      "第 0 类\n",
      "正确个数: 50\n"
     ]
    }
   ],
   "source": [
    "correct0 = correct_number(list0)\n",
    "print(\"正确个数:\",correct0)\n",
    "\n",
    "correct1 = correct_number(list1)\n",
    "print(\"正确个数:\",correct1)\n",
    "\n",
    "correct2 = correct_number(list2)\n",
    "print(\"正确个数:\",correct2)"
   ]
  },
  {
   "cell_type": "markdown",
   "metadata": {},
   "source": [
    "### 计算指标"
   ]
  },
  {
   "cell_type": "code",
   "execution_count": 357,
   "metadata": {},
   "outputs": [
    {
     "name": "stdout",
     "output_type": "stream",
     "text": [
      "Overall Accuracy: 90.66666666666666 %\n",
      "Average Accuracy: 90.66666666666666 %\n"
     ]
    }
   ],
   "source": [
    "OA = (correct0+correct1+correct2)/x.data.shape[0]\n",
    "print('Overall Accuracy:',OA*100,'%')\n",
    "\n",
    "AA_0 = correct0/50\n",
    "AA_1 = correct1/50\n",
    "AA_2 = correct2/50\n",
    "AA = (AA_0+AA_1+AA_2)/3\n",
    "\n",
    "print('Average Accuracy:',AA*100,'%')"
   ]
  }
 ],
 "metadata": {
  "kernelspec": {
   "display_name": "Python 3",
   "language": "python",
   "name": "python3"
  },
  "language_info": {
   "codemirror_mode": {
    "name": "ipython",
    "version": 3
   },
   "file_extension": ".py",
   "mimetype": "text/x-python",
   "name": "python",
   "nbconvert_exporter": "python",
   "pygments_lexer": "ipython3",
   "version": "3.7.0"
  }
 },
 "nbformat": 4,
 "nbformat_minor": 2
}
