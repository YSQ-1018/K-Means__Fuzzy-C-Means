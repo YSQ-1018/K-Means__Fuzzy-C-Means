{
 "cells": [
  {
   "cell_type": "markdown",
   "metadata": {},
   "source": [
    "# K means"
   ]
  },
  {
   "cell_type": "markdown",
   "metadata": {},
   "source": [
    "## 导入数据"
   ]
  },
  {
   "cell_type": "code",
   "execution_count": 52,
   "metadata": {},
   "outputs": [
    {
     "data": {
      "text/html": [
       "<div>\n",
       "<style scoped>\n",
       "    .dataframe tbody tr th:only-of-type {\n",
       "        vertical-align: middle;\n",
       "    }\n",
       "\n",
       "    .dataframe tbody tr th {\n",
       "        vertical-align: top;\n",
       "    }\n",
       "\n",
       "    .dataframe thead th {\n",
       "        text-align: right;\n",
       "    }\n",
       "</style>\n",
       "<table border=\"1\" class=\"dataframe\">\n",
       "  <thead>\n",
       "    <tr style=\"text-align: right;\">\n",
       "      <th></th>\n",
       "      <th>0</th>\n",
       "      <th>1</th>\n",
       "      <th>2</th>\n",
       "      <th>3</th>\n",
       "      <th>4</th>\n",
       "    </tr>\n",
       "  </thead>\n",
       "  <tbody>\n",
       "    <tr>\n",
       "      <th>0</th>\n",
       "      <td>5.1</td>\n",
       "      <td>3.5</td>\n",
       "      <td>1.4</td>\n",
       "      <td>0.2</td>\n",
       "      <td>Iris-setosa</td>\n",
       "    </tr>\n",
       "    <tr>\n",
       "      <th>1</th>\n",
       "      <td>4.9</td>\n",
       "      <td>3.0</td>\n",
       "      <td>1.4</td>\n",
       "      <td>0.2</td>\n",
       "      <td>Iris-setosa</td>\n",
       "    </tr>\n",
       "    <tr>\n",
       "      <th>2</th>\n",
       "      <td>4.7</td>\n",
       "      <td>3.2</td>\n",
       "      <td>1.3</td>\n",
       "      <td>0.2</td>\n",
       "      <td>Iris-setosa</td>\n",
       "    </tr>\n",
       "    <tr>\n",
       "      <th>3</th>\n",
       "      <td>4.6</td>\n",
       "      <td>3.1</td>\n",
       "      <td>1.5</td>\n",
       "      <td>0.2</td>\n",
       "      <td>Iris-setosa</td>\n",
       "    </tr>\n",
       "    <tr>\n",
       "      <th>4</th>\n",
       "      <td>5.0</td>\n",
       "      <td>3.6</td>\n",
       "      <td>1.4</td>\n",
       "      <td>0.2</td>\n",
       "      <td>Iris-setosa</td>\n",
       "    </tr>\n",
       "  </tbody>\n",
       "</table>\n",
       "</div>"
      ],
      "text/plain": [
       "     0    1    2    3            4\n",
       "0  5.1  3.5  1.4  0.2  Iris-setosa\n",
       "1  4.9  3.0  1.4  0.2  Iris-setosa\n",
       "2  4.7  3.2  1.3  0.2  Iris-setosa\n",
       "3  4.6  3.1  1.5  0.2  Iris-setosa\n",
       "4  5.0  3.6  1.4  0.2  Iris-setosa"
      ]
     },
     "execution_count": 52,
     "metadata": {},
     "output_type": "execute_result"
    }
   ],
   "source": [
    "import pandas as pd\n",
    "from sklearn.preprocessing import LabelEncoder #将class(三种花的名字)编码为数值\n",
    "import numpy as np\n",
    "\n",
    "path = '/home/ysq/桌面/Iris/iris.data'\n",
    "\n",
    "#读取数据\n",
    "df = pd.read_csv(path,header=None)\n",
    "df.head(5)"
   ]
  },
  {
   "cell_type": "markdown",
   "metadata": {},
   "source": [
    "## 为类别编码"
   ]
  },
  {
   "cell_type": "code",
   "execution_count": 53,
   "metadata": {},
   "outputs": [
    {
     "data": {
      "text/html": [
       "<div>\n",
       "<style scoped>\n",
       "    .dataframe tbody tr th:only-of-type {\n",
       "        vertical-align: middle;\n",
       "    }\n",
       "\n",
       "    .dataframe tbody tr th {\n",
       "        vertical-align: top;\n",
       "    }\n",
       "\n",
       "    .dataframe thead th {\n",
       "        text-align: right;\n",
       "    }\n",
       "</style>\n",
       "<table border=\"1\" class=\"dataframe\">\n",
       "  <thead>\n",
       "    <tr style=\"text-align: right;\">\n",
       "      <th></th>\n",
       "      <th>0</th>\n",
       "      <th>1</th>\n",
       "      <th>2</th>\n",
       "      <th>3</th>\n",
       "      <th>4</th>\n",
       "    </tr>\n",
       "  </thead>\n",
       "  <tbody>\n",
       "    <tr>\n",
       "      <th>0</th>\n",
       "      <td>5.1</td>\n",
       "      <td>3.5</td>\n",
       "      <td>1.4</td>\n",
       "      <td>0.2</td>\n",
       "      <td>0</td>\n",
       "    </tr>\n",
       "    <tr>\n",
       "      <th>1</th>\n",
       "      <td>4.9</td>\n",
       "      <td>3.0</td>\n",
       "      <td>1.4</td>\n",
       "      <td>0.2</td>\n",
       "      <td>0</td>\n",
       "    </tr>\n",
       "    <tr>\n",
       "      <th>2</th>\n",
       "      <td>4.7</td>\n",
       "      <td>3.2</td>\n",
       "      <td>1.3</td>\n",
       "      <td>0.2</td>\n",
       "      <td>0</td>\n",
       "    </tr>\n",
       "    <tr>\n",
       "      <th>3</th>\n",
       "      <td>4.6</td>\n",
       "      <td>3.1</td>\n",
       "      <td>1.5</td>\n",
       "      <td>0.2</td>\n",
       "      <td>0</td>\n",
       "    </tr>\n",
       "    <tr>\n",
       "      <th>4</th>\n",
       "      <td>5.0</td>\n",
       "      <td>3.6</td>\n",
       "      <td>1.4</td>\n",
       "      <td>0.2</td>\n",
       "      <td>0</td>\n",
       "    </tr>\n",
       "  </tbody>\n",
       "</table>\n",
       "</div>"
      ],
      "text/plain": [
       "     0    1    2    3  4\n",
       "0  5.1  3.5  1.4  0.2  0\n",
       "1  4.9  3.0  1.4  0.2  0\n",
       "2  4.7  3.2  1.3  0.2  0\n",
       "3  4.6  3.1  1.5  0.2  0\n",
       "4  5.0  3.6  1.4  0.2  0"
      ]
     },
     "execution_count": 53,
     "metadata": {},
     "output_type": "execute_result"
    }
   ],
   "source": [
    "#为类别编码,将花的名字换为数字\n",
    "encoder = LabelEncoder().fit(df[4])\n",
    "df[4] = encoder.transform(df[4])\n",
    "df.head(5)"
   ]
  },
  {
   "cell_type": "markdown",
   "metadata": {},
   "source": [
    "## 将dataframe转为ndarray"
   ]
  },
  {
   "cell_type": "code",
   "execution_count": 54,
   "metadata": {},
   "outputs": [
    {
     "name": "stdout",
     "output_type": "stream",
     "text": [
      "<class 'numpy.ndarray'>\n",
      "(150, 5)\n"
     ]
    }
   ],
   "source": [
    "#将pandas读取的数据转为了ndarray型,(该数据中包含标签)\n",
    "data = df.values\n",
    "print(type(data))\n",
    "print(data.shape)"
   ]
  },
  {
   "cell_type": "markdown",
   "metadata": {},
   "source": [
    "## 定义聚类中心类,执行算法后生成的三个聚类中心向量\n",
    "## 用这个类来储存"
   ]
  },
  {
   "cell_type": "code",
   "execution_count": 55,
   "metadata": {},
   "outputs": [],
   "source": [
    "class Center:\n",
    "    \"\"\"\n",
    "        聚类中心类，接受三个向量\n",
    "    \"\"\"\n",
    "    def __init__(self,z0=None,z1=None,z2=None):\n",
    "        \"\"\"\n",
    "            z0,1,2 = None可以使得在生成一个Center类时不必传入参数，之后可以进行传参初始化\n",
    "        \"\"\"\n",
    "        self.z0 = z0\n",
    "        self.z1 = z1\n",
    "        self.z2 = z2"
   ]
  },
  {
   "cell_type": "markdown",
   "metadata": {},
   "source": [
    "#### 初始化一个聚类中心类（可以选取data的前三个，亦可从每类中选一个，\n",
    "#### Kmeans可能对初始化敏感，我们来验证他）"
   ]
  },
  {
   "cell_type": "code",
   "execution_count": 56,
   "metadata": {},
   "outputs": [],
   "source": [
    "#定义一个接收聚类中心类的列表\n",
    "center_list = []\n",
    "\n",
    "c0 = Center()\n",
    "#选取data中的前三个向量的前四个元素（省略标签），设置其为初始聚类中心\n",
    "c0.z0 = data[0][0:4]\n",
    "c0.z1 = data[1][0:4]\n",
    "c0.z2 = data[2][0:4]\n",
    "\n",
    "center_list.append(c0)#将初始化后的聚类中心传入列表储存"
   ]
  },
  {
   "cell_type": "markdown",
   "metadata": {},
   "source": [
    "## 定义三个列表，用与接收分类器分类后的数据"
   ]
  },
  {
   "cell_type": "code",
   "execution_count": 57,
   "metadata": {},
   "outputs": [],
   "source": [
    "list_class0 = []\n",
    "list_class1 = []\n",
    "list_class2 = []\n"
   ]
  },
  {
   "cell_type": "markdown",
   "metadata": {},
   "source": [
    "### 全局函数1、计算两个向量之间的欧氏距离"
   ]
  },
  {
   "cell_type": "code",
   "execution_count": 58,
   "metadata": {},
   "outputs": [],
   "source": [
    "def Euclid_distance(vector1,vector2):\n",
    "    \"\"\"\n",
    "        计算向量1和向量2之间的欧氏距离\n",
    "    \"\"\"\n",
    "    foo = vector1-vector2\n",
    "    return np.linalg.norm(foo,ord=2)#利用了numpy线性代数内置函数计算L2范数"
   ]
  },
  {
   "cell_type": "markdown",
   "metadata": {},
   "source": [
    "### 全局函数2、计算一个数据集中的中心向量（质心）"
   ]
  },
  {
   "cell_type": "code",
   "execution_count": 59,
   "metadata": {},
   "outputs": [],
   "source": [
    "def center_of_set(data):\n",
    "    \"\"\"\n",
    "        计算数据集的中心向量\n",
    "    \"\"\"\n",
    "    #定义1*4的零向量\n",
    "    x = np.zeros((1,4))\n",
    "    for sample in data:\n",
    "        x += sample[0:4]\n",
    "    return x/data.shape[0]"
   ]
  },
  {
   "cell_type": "markdown",
   "metadata": {},
   "source": [
    "# 定义Kmeans类，构建算法"
   ]
  },
  {
   "cell_type": "code",
   "execution_count": 60,
   "metadata": {},
   "outputs": [],
   "source": [
    "class Kmeans_for_iris:\n",
    "    #构造函数初始化\n",
    "    def __init__(self,data,list0,list1,list2,center_list):\n",
    "        \"\"\"\n",
    "            data是传入的数据集，list0，list1，list2是接收分类后数据的列表\n",
    "            center_list是接收聚类中心的列表\n",
    "        \"\"\"\n",
    "        self.data = data#数据\n",
    "        self.list0 = list0#第一类数据\n",
    "        self.list1 = list1#第二类数据\n",
    "        self.list2 = list2#第三类数据\n",
    "        self.center_list = center_list#聚类中心列表\n",
    "        \n",
    "    \n",
    "    def compute_distance_from_three_center(self,i):\n",
    "        \"\"\"\n",
    "            计算data中第i个样本与三个聚类中心的距离\n",
    "            返回距离最近的一个聚类中心的序号（如：0,1,2）\n",
    "        \"\"\"\n",
    "        #print(center_list[-1].z1[0:4])只取前四个元素参与计算\n",
    "        #三个中心向量，取前四个元素运算，因为第五个是类别标签\n",
    "        center0 = self.center_list[-1].z0[0:4]\n",
    "        center1 = self.center_list[-1].z1[0:4]\n",
    "        center2 = self.center_list[-1].z2[0:4]\n",
    "        #取数据集中第i个元素的前4列，即其前四个元素\n",
    "        foo = self.data[i][0:4]\n",
    "        #计算距离\n",
    "        dist0 = Euclid_distance(foo,center0)\n",
    "        dist1 = Euclid_distance(foo,center1)\n",
    "        dist2 = Euclid_distance(foo,center2)\n",
    "        \n",
    "        #print(\"data中第\",i,\"个数据与当前三个聚类中心的距离为：\",dist0,' ',dist1,' ',dist2)    \n",
    "        if dist0 <= dist1 and dist0 <= dist2:\n",
    "            return 0\n",
    "        if dist1 <= dist0 and dist1 <= dist2:\n",
    "            return 1\n",
    "        if dist2 <= dist0 and dist2 <= dist1:\n",
    "            return 2\n",
    "    \n",
    "    def data_classify(self):\n",
    "        \"\"\"\n",
    "            给数据分类，并初始化或更新分类后的数据列表list0,1,2\n",
    "        \"\"\"\n",
    "        #print(data.shape[0])返回data矩阵的行数,也即该数据集有多少个样本\n",
    "        \n",
    "        #Warning:分类前现将接受分类样本的列表清空，不然列表会一直增长！\n",
    "        self.list0.clear()\n",
    "        self.list1.clear()\n",
    "        self.list2.clear()\n",
    "         \n",
    "        for i in range(data.shape[0]):\n",
    "            #类中函数互相调用有两种方法，此处调用计算距离的函数\n",
    "            #Kmeans_for_iris.compute_distance_from_three_center(self,i)\n",
    "            foo = self.compute_distance_from_three_center(i)#foo接收该样本被分到的类\n",
    "            \n",
    "            #Warning:分类前现将接受分类样本的列表清空，不然列表会一直增长！\n",
    "            #根据foo的值对样本分类\n",
    "            if foo == 0:\n",
    "                self.list0.append(data[i])\n",
    "            if foo == 1:\n",
    "                self.list1.append(data[i])\n",
    "            if foo == 2:\n",
    "                self.list2.append(data[i])\n",
    "        \n",
    "    def compute_center_vector(self):\n",
    "        \"\"\"\n",
    "            计算的聚类中心向量,更新center_list\n",
    "        \"\"\"\n",
    "        #先定义一个Center类\n",
    "        c = Center()\n",
    "        #由于Center类中的成员z0,z1,z2储存的元素为ndarray型，需要对list0,1,2进行类型转换\n",
    "        foo0 = np.array(self.list0)\n",
    "        foo1 = np.array(self.list1)\n",
    "        foo2 = np.array(self.list2)\n",
    "        \n",
    "        c.z0 = center_of_set(foo0)#计算第一类中心向量并赋值给Center类的成员z0\n",
    "        c.z1 = center_of_set(foo1)\n",
    "        c.z2 = center_of_set(foo2)\n",
    "        #将新计算出的聚类中心加到列表中\n",
    "        self.center_list.append(c)\n",
    "    \n",
    "    def stop_compute(self):\n",
    "        \"\"\"\n",
    "            是否停止计算?\n",
    "            如果center_list的倒数第一个元素和倒数第二个元素相等\n",
    "            停止迭代，分类完成！\n",
    "        \"\"\"\n",
    "        #当center_list仅有一个元素时（第0次计算），直接返回False\n",
    "        if len(self.center_list) == 1:\n",
    "            return False\n",
    "        #注意比较向量相等要使用(x==y).all()\n",
    "        elif ((self.center_list[-2].z0 == self.center_list[-1].z0).all() and \n",
    "            (self.center_list[-2].z1 == self.center_list[-1].z1).all() and \n",
    "            (self.center_list[-2].z2 == self.center_list[-1].z2).all()):\n",
    "            #若两次的中心向量都相同，停止计算\n",
    "            return True\n",
    "        else:\n",
    "            return False"
   ]
  },
  {
   "cell_type": "markdown",
   "metadata": {},
   "source": [
    "## 进行训练"
   ]
  },
  {
   "cell_type": "code",
   "execution_count": 61,
   "metadata": {},
   "outputs": [
    {
     "name": "stdout",
     "output_type": "stream",
     "text": [
      "当前聚类中心为:\n",
      " 第一类: [5.1 3.5 1.4 0.2] \n",
      "第二类: [4.9 3.  1.4 0.2] \n",
      "第三类: [4.7 3.2 1.3 0.2]\n",
      "当前聚类中心为:\n",
      " 第一类: [[6.17727273 3.25795455 4.05568182 1.34545455]] \n",
      "第二类: [[5.54509804 2.67058824 3.76470588 1.16078431]] \n",
      "第三类: [[4.55454545 3.2        1.35454545 0.2       ]]\n",
      "当前聚类中心为:\n",
      " 第一类: [[6.52297297 2.97297297 5.24189189 1.83783784]] \n",
      "第二类: [[5.51923077 2.58461538 3.95       1.21538462]] \n",
      "第三类: [[5.006 3.418 1.464 0.244]]\n",
      "当前聚类中心为:\n",
      " 第一类: [[6.57014925 2.9880597  5.33880597 1.88507463]] \n",
      "第二类: [[5.63636364 2.63636364 4.02727273 1.25151515]] \n",
      "第三类: [[5.006 3.418 1.464 0.244]]\n",
      "当前聚类中心为:\n",
      " 第一类: [[6.6015873  2.98571429 5.38412698 1.91587302]] \n",
      "第二类: [[5.68378378 2.67837838 4.09189189 1.26756757]] \n",
      "第三类: [[5.006 3.418 1.464 0.244]]\n",
      "当前聚类中心为:\n",
      " 第一类: [[6.63220339 2.99830508 5.43050847 1.93728814]] \n",
      "第二类: [[5.72926829 2.6902439  4.15121951 1.3       ]] \n",
      "第三类: [[5.006 3.418 1.464 0.244]]\n",
      "当前聚类中心为:\n",
      " 第一类: [[6.66481481 3.00740741 5.5        1.96851852]] \n",
      "第二类: [[5.78913043 2.71304348 4.20869565 1.3326087 ]] \n",
      "第三类: [[5.006 3.418 1.464 0.244]]\n",
      "当前聚类中心为:\n",
      " 第一类: [[6.702 3.016 5.556 1.992]] \n",
      "第二类: [[5.822 2.728 4.256 1.36 ]] \n",
      "第三类: [[5.006 3.418 1.464 0.244]]\n",
      "当前聚类中心为:\n",
      " 第一类: [[6.76956522 3.03695652 5.6        2.00869565]] \n",
      "第二类: [[5.82962963 2.73148148 4.31481481 1.39259259]] \n",
      "第三类: [[5.006 3.418 1.464 0.244]]\n",
      "当前聚类中心为:\n",
      " 第一类: [[6.80232558 3.04418605 5.64883721 2.03023256]] \n",
      "第二类: [[5.85438596 2.74210526 4.34561404 1.40877193]] \n",
      "第三类: [[5.006 3.418 1.464 0.244]]\n",
      "当前聚类中心为:\n",
      " 第一类: [[6.8275 3.07   5.7    2.0625]] \n",
      "第二类: [[5.885      2.74       4.37666667 1.41833333]] \n",
      "第三类: [[5.006 3.418 1.464 0.244]]\n",
      "当前聚类中心为:\n",
      " 第一类: [[6.85384615 3.07692308 5.71538462 2.05384615]] \n",
      "第二类: [[5.88360656 2.74098361 4.38852459 1.43442623]] \n",
      "第三类: [[5.006 3.418 1.464 0.244]]\n",
      "\n",
      "--------迭代计算次数为: 12\n",
      "39 61 50\n"
     ]
    }
   ],
   "source": [
    "x = Kmeans_for_iris(data=data,list0=list_class0,list1=list_class1,\n",
    "           list2=list_class2,center_list=center_list)\n",
    "\n",
    "#定义计算次数\n",
    "counter = 0\n",
    "\n",
    "while x.stop_compute()!=True:\n",
    "    print(\"当前聚类中心为:\\n\",\"第一类:\",x.center_list[-1].z0,\"\\n第二类:\",x.center_list[-1].z1,\"\\n第三类:\",x.center_list[-1].z2)\n",
    "    x.data_classify()\n",
    "    x.compute_center_vector()\n",
    "    counter+=1\n",
    "\n",
    "print(\"\\n--------迭代计算次数为:\",counter)\n",
    "\n",
    "print(len(x.list0),len(x.list1),len(x.list2))"
   ]
  },
  {
   "cell_type": "markdown",
   "metadata": {},
   "source": [
    "## 对结果进行评测"
   ]
  },
  {
   "cell_type": "code",
   "execution_count": 62,
   "metadata": {},
   "outputs": [
    {
     "data": {
      "text/plain": [
       "[array([7. , 3.2, 4.7, 1.4, 1. ]),\n",
       " array([6.9, 3.1, 4.9, 1.5, 1. ]),\n",
       " array([6.7, 3. , 5. , 1.7, 1. ]),\n",
       " array([6.3, 3.3, 6. , 2.5, 2. ]),\n",
       " array([7.1, 3. , 5.9, 2.1, 2. ]),\n",
       " array([6.3, 2.9, 5.6, 1.8, 2. ]),\n",
       " array([6.5, 3. , 5.8, 2.2, 2. ]),\n",
       " array([7.6, 3. , 6.6, 2.1, 2. ]),\n",
       " array([7.3, 2.9, 6.3, 1.8, 2. ]),\n",
       " array([6.7, 2.5, 5.8, 1.8, 2. ]),\n",
       " array([7.2, 3.6, 6.1, 2.5, 2. ]),\n",
       " array([6.5, 3.2, 5.1, 2. , 2. ]),\n",
       " array([6.4, 2.7, 5.3, 1.9, 2. ]),\n",
       " array([6.8, 3. , 5.5, 2.1, 2. ]),\n",
       " array([6.4, 3.2, 5.3, 2.3, 2. ]),\n",
       " array([6.5, 3. , 5.5, 1.8, 2. ]),\n",
       " array([7.7, 3.8, 6.7, 2.2, 2. ]),\n",
       " array([7.7, 2.6, 6.9, 2.3, 2. ]),\n",
       " array([6.9, 3.2, 5.7, 2.3, 2. ]),\n",
       " array([7.7, 2.8, 6.7, 2. , 2. ]),\n",
       " array([6.7, 3.3, 5.7, 2.1, 2. ]),\n",
       " array([7.2, 3.2, 6. , 1.8, 2. ]),\n",
       " array([6.4, 2.8, 5.6, 2.1, 2. ]),\n",
       " array([7.2, 3. , 5.8, 1.6, 2. ]),\n",
       " array([7.4, 2.8, 6.1, 1.9, 2. ]),\n",
       " array([7.9, 3.8, 6.4, 2. , 2. ]),\n",
       " array([6.4, 2.8, 5.6, 2.2, 2. ]),\n",
       " array([6.1, 2.6, 5.6, 1.4, 2. ]),\n",
       " array([7.7, 3. , 6.1, 2.3, 2. ]),\n",
       " array([6.3, 3.4, 5.6, 2.4, 2. ]),\n",
       " array([6.4, 3.1, 5.5, 1.8, 2. ]),\n",
       " array([6.9, 3.1, 5.4, 2.1, 2. ]),\n",
       " array([6.7, 3.1, 5.6, 2.4, 2. ]),\n",
       " array([6.9, 3.1, 5.1, 2.3, 2. ]),\n",
       " array([6.8, 3.2, 5.9, 2.3, 2. ]),\n",
       " array([6.7, 3.3, 5.7, 2.5, 2. ]),\n",
       " array([6.7, 3. , 5.2, 2.3, 2. ]),\n",
       " array([6.5, 3. , 5.2, 2. , 2. ]),\n",
       " array([6.2, 3.4, 5.4, 2.3, 2. ])]"
      ]
     },
     "execution_count": 62,
     "metadata": {},
     "output_type": "execute_result"
    }
   ],
   "source": [
    "x.list0"
   ]
  },
  {
   "cell_type": "code",
   "execution_count": 63,
   "metadata": {},
   "outputs": [
    {
     "data": {
      "text/plain": [
       "[array([6.4, 3.2, 4.5, 1.5, 1. ]),\n",
       " array([5.5, 2.3, 4. , 1.3, 1. ]),\n",
       " array([6.5, 2.8, 4.6, 1.5, 1. ]),\n",
       " array([5.7, 2.8, 4.5, 1.3, 1. ]),\n",
       " array([6.3, 3.3, 4.7, 1.6, 1. ]),\n",
       " array([4.9, 2.4, 3.3, 1. , 1. ]),\n",
       " array([6.6, 2.9, 4.6, 1.3, 1. ]),\n",
       " array([5.2, 2.7, 3.9, 1.4, 1. ]),\n",
       " array([5. , 2. , 3.5, 1. , 1. ]),\n",
       " array([5.9, 3. , 4.2, 1.5, 1. ]),\n",
       " array([6. , 2.2, 4. , 1. , 1. ]),\n",
       " array([6.1, 2.9, 4.7, 1.4, 1. ]),\n",
       " array([5.6, 2.9, 3.6, 1.3, 1. ]),\n",
       " array([6.7, 3.1, 4.4, 1.4, 1. ]),\n",
       " array([5.6, 3. , 4.5, 1.5, 1. ]),\n",
       " array([5.8, 2.7, 4.1, 1. , 1. ]),\n",
       " array([6.2, 2.2, 4.5, 1.5, 1. ]),\n",
       " array([5.6, 2.5, 3.9, 1.1, 1. ]),\n",
       " array([5.9, 3.2, 4.8, 1.8, 1. ]),\n",
       " array([6.1, 2.8, 4. , 1.3, 1. ]),\n",
       " array([6.3, 2.5, 4.9, 1.5, 1. ]),\n",
       " array([6.1, 2.8, 4.7, 1.2, 1. ]),\n",
       " array([6.4, 2.9, 4.3, 1.3, 1. ]),\n",
       " array([6.6, 3. , 4.4, 1.4, 1. ]),\n",
       " array([6.8, 2.8, 4.8, 1.4, 1. ]),\n",
       " array([6. , 2.9, 4.5, 1.5, 1. ]),\n",
       " array([5.7, 2.6, 3.5, 1. , 1. ]),\n",
       " array([5.5, 2.4, 3.8, 1.1, 1. ]),\n",
       " array([5.5, 2.4, 3.7, 1. , 1. ]),\n",
       " array([5.8, 2.7, 3.9, 1.2, 1. ]),\n",
       " array([6. , 2.7, 5.1, 1.6, 1. ]),\n",
       " array([5.4, 3. , 4.5, 1.5, 1. ]),\n",
       " array([6. , 3.4, 4.5, 1.6, 1. ]),\n",
       " array([6.7, 3.1, 4.7, 1.5, 1. ]),\n",
       " array([6.3, 2.3, 4.4, 1.3, 1. ]),\n",
       " array([5.6, 3. , 4.1, 1.3, 1. ]),\n",
       " array([5.5, 2.5, 4. , 1.3, 1. ]),\n",
       " array([5.5, 2.6, 4.4, 1.2, 1. ]),\n",
       " array([6.1, 3. , 4.6, 1.4, 1. ]),\n",
       " array([5.8, 2.6, 4. , 1.2, 1. ]),\n",
       " array([5. , 2.3, 3.3, 1. , 1. ]),\n",
       " array([5.6, 2.7, 4.2, 1.3, 1. ]),\n",
       " array([5.7, 3. , 4.2, 1.2, 1. ]),\n",
       " array([5.7, 2.9, 4.2, 1.3, 1. ]),\n",
       " array([6.2, 2.9, 4.3, 1.3, 1. ]),\n",
       " array([5.1, 2.5, 3. , 1.1, 1. ]),\n",
       " array([5.7, 2.8, 4.1, 1.3, 1. ]),\n",
       " array([5.8, 2.7, 5.1, 1.9, 2. ]),\n",
       " array([4.9, 2.5, 4.5, 1.7, 2. ]),\n",
       " array([5.7, 2.5, 5. , 2. , 2. ]),\n",
       " array([5.8, 2.8, 5.1, 2.4, 2. ]),\n",
       " array([6. , 2.2, 5. , 1.5, 2. ]),\n",
       " array([5.6, 2.8, 4.9, 2. , 2. ]),\n",
       " array([6.3, 2.7, 4.9, 1.8, 2. ]),\n",
       " array([6.2, 2.8, 4.8, 1.8, 2. ]),\n",
       " array([6.1, 3. , 4.9, 1.8, 2. ]),\n",
       " array([6.3, 2.8, 5.1, 1.5, 2. ]),\n",
       " array([6. , 3. , 4.8, 1.8, 2. ]),\n",
       " array([5.8, 2.7, 5.1, 1.9, 2. ]),\n",
       " array([6.3, 2.5, 5. , 1.9, 2. ]),\n",
       " array([5.9, 3. , 5.1, 1.8, 2. ])]"
      ]
     },
     "execution_count": 63,
     "metadata": {},
     "output_type": "execute_result"
    }
   ],
   "source": [
    "x.list1"
   ]
  },
  {
   "cell_type": "code",
   "execution_count": 64,
   "metadata": {},
   "outputs": [
    {
     "data": {
      "text/plain": [
       "[array([5.1, 3.5, 1.4, 0.2, 0. ]),\n",
       " array([4.9, 3. , 1.4, 0.2, 0. ]),\n",
       " array([4.7, 3.2, 1.3, 0.2, 0. ]),\n",
       " array([4.6, 3.1, 1.5, 0.2, 0. ]),\n",
       " array([5. , 3.6, 1.4, 0.2, 0. ]),\n",
       " array([5.4, 3.9, 1.7, 0.4, 0. ]),\n",
       " array([4.6, 3.4, 1.4, 0.3, 0. ]),\n",
       " array([5. , 3.4, 1.5, 0.2, 0. ]),\n",
       " array([4.4, 2.9, 1.4, 0.2, 0. ]),\n",
       " array([4.9, 3.1, 1.5, 0.1, 0. ]),\n",
       " array([5.4, 3.7, 1.5, 0.2, 0. ]),\n",
       " array([4.8, 3.4, 1.6, 0.2, 0. ]),\n",
       " array([4.8, 3. , 1.4, 0.1, 0. ]),\n",
       " array([4.3, 3. , 1.1, 0.1, 0. ]),\n",
       " array([5.8, 4. , 1.2, 0.2, 0. ]),\n",
       " array([5.7, 4.4, 1.5, 0.4, 0. ]),\n",
       " array([5.4, 3.9, 1.3, 0.4, 0. ]),\n",
       " array([5.1, 3.5, 1.4, 0.3, 0. ]),\n",
       " array([5.7, 3.8, 1.7, 0.3, 0. ]),\n",
       " array([5.1, 3.8, 1.5, 0.3, 0. ]),\n",
       " array([5.4, 3.4, 1.7, 0.2, 0. ]),\n",
       " array([5.1, 3.7, 1.5, 0.4, 0. ]),\n",
       " array([4.6, 3.6, 1. , 0.2, 0. ]),\n",
       " array([5.1, 3.3, 1.7, 0.5, 0. ]),\n",
       " array([4.8, 3.4, 1.9, 0.2, 0. ]),\n",
       " array([5. , 3. , 1.6, 0.2, 0. ]),\n",
       " array([5. , 3.4, 1.6, 0.4, 0. ]),\n",
       " array([5.2, 3.5, 1.5, 0.2, 0. ]),\n",
       " array([5.2, 3.4, 1.4, 0.2, 0. ]),\n",
       " array([4.7, 3.2, 1.6, 0.2, 0. ]),\n",
       " array([4.8, 3.1, 1.6, 0.2, 0. ]),\n",
       " array([5.4, 3.4, 1.5, 0.4, 0. ]),\n",
       " array([5.2, 4.1, 1.5, 0.1, 0. ]),\n",
       " array([5.5, 4.2, 1.4, 0.2, 0. ]),\n",
       " array([4.9, 3.1, 1.5, 0.1, 0. ]),\n",
       " array([5. , 3.2, 1.2, 0.2, 0. ]),\n",
       " array([5.5, 3.5, 1.3, 0.2, 0. ]),\n",
       " array([4.9, 3.1, 1.5, 0.1, 0. ]),\n",
       " array([4.4, 3. , 1.3, 0.2, 0. ]),\n",
       " array([5.1, 3.4, 1.5, 0.2, 0. ]),\n",
       " array([5. , 3.5, 1.3, 0.3, 0. ]),\n",
       " array([4.5, 2.3, 1.3, 0.3, 0. ]),\n",
       " array([4.4, 3.2, 1.3, 0.2, 0. ]),\n",
       " array([5. , 3.5, 1.6, 0.6, 0. ]),\n",
       " array([5.1, 3.8, 1.9, 0.4, 0. ]),\n",
       " array([4.8, 3. , 1.4, 0.3, 0. ]),\n",
       " array([5.1, 3.8, 1.6, 0.2, 0. ]),\n",
       " array([4.6, 3.2, 1.4, 0.2, 0. ]),\n",
       " array([5.3, 3.7, 1.5, 0.2, 0. ]),\n",
       " array([5. , 3.3, 1.4, 0.2, 0. ])]"
      ]
     },
     "execution_count": 64,
     "metadata": {},
     "output_type": "execute_result"
    }
   ],
   "source": [
    "x.list2"
   ]
  },
  {
   "cell_type": "markdown",
   "metadata": {},
   "source": [
    "### 有一点麻烦的是分完类后，并不知道这是第几类，必须打印出来才能知道是\n",
    "### 第几类，或者借助统计类别标签，多数者为类别数"
   ]
  },
  {
   "cell_type": "markdown",
   "metadata": {},
   "source": [
    "### 统计列表中的类别来获取对应的标签"
   ]
  },
  {
   "cell_type": "code",
   "execution_count": 65,
   "metadata": {},
   "outputs": [],
   "source": [
    "def statistic(_list):\n",
    "    \"\"\"\n",
    "        统计类别以获得标签\n",
    "    \"\"\"\n",
    "    c0 = 0\n",
    "    c1 = 0\n",
    "    c2 = 0\n",
    "    for sample in _list:\n",
    "        foo = sample[4:5]\n",
    "        #print(foo)\n",
    "        if foo==0:\n",
    "            c0+=1\n",
    "        elif foo==1:\n",
    "            c1+=1\n",
    "        else:\n",
    "            c2+=1\n",
    "    #print(c0,c1,c2)\n",
    "    #Voting\n",
    "    if c0 > c1 and c0 > c2: \n",
    "        return 0\n",
    "    if c1 > c0 and c1 > c2: \n",
    "        return 1\n",
    "    if c2 > c1 and c2 > c0: \n",
    "        return 2"
   ]
  },
  {
   "cell_type": "markdown",
   "metadata": {},
   "source": [
    "### 计算分类正确的个数"
   ]
  },
  {
   "cell_type": "code",
   "execution_count": 66,
   "metadata": {},
   "outputs": [],
   "source": [
    "def correct_number(_list):\n",
    "    \"\"\"\n",
    "        计算某一类的分类正确的个数\n",
    "    \"\"\"\n",
    "    correct = 0\n",
    "    label = statistic(_list)\n",
    "    print(\"第\",label,\"类\")\n",
    "    for sample in _list:\n",
    "        #使用sample[4:5]获取其标签\n",
    "        if sample[4:5] == label:\n",
    "            correct+=1\n",
    "    return correct"
   ]
  },
  {
   "cell_type": "code",
   "execution_count": 67,
   "metadata": {},
   "outputs": [
    {
     "name": "stdout",
     "output_type": "stream",
     "text": [
      "第 2 类\n",
      "正确个数: 36\n",
      "第 1 类\n",
      "正确个数: 47\n",
      "第 0 类\n",
      "正确个数: 50\n"
     ]
    }
   ],
   "source": [
    "correct0 = correct_number(x.list0)\n",
    "print(\"正确个数:\",correct0)\n",
    "\n",
    "correct1 = correct_number(x.list1)\n",
    "print(\"正确个数:\",correct1)\n",
    "\n",
    "correct2 = correct_number(x.list2)\n",
    "print(\"正确个数:\",correct2)\n"
   ]
  },
  {
   "cell_type": "markdown",
   "metadata": {},
   "source": [
    "## 计算指标"
   ]
  },
  {
   "cell_type": "code",
   "execution_count": 68,
   "metadata": {},
   "outputs": [
    {
     "name": "stdout",
     "output_type": "stream",
     "text": [
      "Overall Accuracy: 88.66666666666667 %\n",
      "Average Accuracy: 88.66666666666667 %\n"
     ]
    }
   ],
   "source": [
    "OA = (correct0+correct1+correct2)/x.data.shape[0]\n",
    "print('Overall Accuracy:',OA*100,'%')\n",
    "\n",
    "AA_0 = correct0/50\n",
    "AA_1 = correct1/50\n",
    "AA_2 = correct2/50\n",
    "AA = (AA_0+AA_1+AA_2)/3\n",
    "\n",
    "print('Average Accuracy:',AA*100,'%')"
   ]
  }
 ],
 "metadata": {
  "kernelspec": {
   "display_name": "Python 3",
   "language": "python",
   "name": "python3"
  },
  "language_info": {
   "codemirror_mode": {
    "name": "ipython",
    "version": 3
   },
   "file_extension": ".py",
   "mimetype": "text/x-python",
   "name": "python",
   "nbconvert_exporter": "python",
   "pygments_lexer": "ipython3",
   "version": "3.7.0"
  }
 },
 "nbformat": 4,
 "nbformat_minor": 2
}
